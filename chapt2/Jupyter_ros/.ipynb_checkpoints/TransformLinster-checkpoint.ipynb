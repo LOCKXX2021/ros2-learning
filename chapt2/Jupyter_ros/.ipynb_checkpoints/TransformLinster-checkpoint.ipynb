{
 "cells": [
  {
   "cell_type": "code",
   "execution_count": 1,
   "id": "5f2b656a",
   "metadata": {},
   "outputs": [],
   "source": [
    "import rclpy\n",
    "from rclpy.node import Node"
   ]
  },
  {
   "cell_type": "code",
   "execution_count": 4,
   "id": "61c844f5",
   "metadata": {},
   "outputs": [],
   "source": [
    "from tf2_ros import TransformException\n",
    "from tf2_ros import Buffer#储存数据的缓冲器，调用时使用该对象获取数据\n",
    "from tf2_ros.transform_listener import TransformListener\n"
   ]
  },
  {
   "cell_type": "code",
   "execution_count": 3,
   "id": "3af52cb4",
   "metadata": {},
   "outputs": [],
   "source": [
    "rclpy.init()\n",
    "node = Node(\"transform_node3\")"
   ]
  },
  {
   "cell_type": "code",
   "execution_count": 5,
   "id": "eff50723",
   "metadata": {},
   "outputs": [],
   "source": [
    "tf_buffer = Buffer()\n",
    "tf_listener = TransformListener(tf_buffer,node)"
   ]
  },
  {
   "cell_type": "code",
   "execution_count": 6,
   "id": "7ad1b9c6",
   "metadata": {},
   "outputs": [],
   "source": [
    "def transform_callback():\n",
    "    try:\n",
    "        now = rclpy.time.Time()\n",
    "        trans = tf_buffer.lookup_transform('B','P',now)\n",
    "    except TransformException as ex:\n",
    "        print(f'could not find transform B to P: {ex}')"
   ]
  },
  {
   "cell_type": "code",
   "execution_count": null,
   "id": "dfaca70a",
   "metadata": {},
   "outputs": [
    {
     "name": "stdout",
     "output_type": "stream",
     "text": [
      "could not find transform B to P: \"B\" passed to lookupTransform argument target_frame does not exist. \n",
      "could not find transform B to P: \"B\" passed to lookupTransform argument target_frame does not exist. \n",
      "could not find transform B to P: \"B\" passed to lookupTransform argument target_frame does not exist. \n",
      "could not find transform B to P: \"B\" passed to lookupTransform argument target_frame does not exist. \n",
      "could not find transform B to P: \"B\" passed to lookupTransform argument target_frame does not exist. \n",
      "could not find transform B to P: \"B\" passed to lookupTransform argument target_frame does not exist. \n",
      "could not find transform B to P: \"B\" passed to lookupTransform argument target_frame does not exist. \n",
      "could not find transform B to P: \"B\" passed to lookupTransform argument target_frame does not exist. \n",
      "could not find transform B to P: \"B\" passed to lookupTransform argument target_frame does not exist. \n",
      "could not find transform B to P: \"B\" passed to lookupTransform argument target_frame does not exist. \n",
      "could not find transform B to P: \"B\" passed to lookupTransform argument target_frame does not exist. \n",
      "could not find transform B to P: \"B\" passed to lookupTransform argument target_frame does not exist. \n",
      "could not find transform B to P: \"B\" passed to lookupTransform argument target_frame does not exist. \n",
      "could not find transform B to P: \"B\" passed to lookupTransform argument target_frame does not exist. \n",
      "could not find transform B to P: \"B\" passed to lookupTransform argument target_frame does not exist. \n",
      "could not find transform B to P: \"B\" passed to lookupTransform argument target_frame does not exist. \n"
     ]
    }
   ],
   "source": [
    "node.create_timer(1,transform_callback)\n",
    "rclpy.spin(node)"
   ]
  },
  {
   "cell_type": "code",
   "execution_count": null,
   "id": "1936e2af",
   "metadata": {},
   "outputs": [],
   "source": []
  },
  {
   "cell_type": "code",
   "execution_count": null,
   "id": "fc2bcf34",
   "metadata": {},
   "outputs": [],
   "source": []
  },
  {
   "cell_type": "code",
   "execution_count": null,
   "id": "a54025a4",
   "metadata": {},
   "outputs": [],
   "source": []
  }
 ],
 "metadata": {
  "kernelspec": {
   "display_name": "Python 3 (ipykernel)",
   "language": "python",
   "name": "python3"
  },
  "language_info": {
   "codemirror_mode": {
    "name": "ipython",
    "version": 3
   },
   "file_extension": ".py",
   "mimetype": "text/x-python",
   "name": "python",
   "nbconvert_exporter": "python",
   "pygments_lexer": "ipython3",
   "version": "3.10.9"
  }
 },
 "nbformat": 4,
 "nbformat_minor": 5
}
