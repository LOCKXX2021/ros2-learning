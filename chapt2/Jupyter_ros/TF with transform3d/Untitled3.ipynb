{
 "cells": [
  {
   "cell_type": "code",
   "execution_count": 1,
   "id": "4549a410",
   "metadata": {},
   "outputs": [],
   "source": [
    "import numpy as np\n",
    "import transforms3d as tfs\n",
    "import math"
   ]
  },
  {
   "cell_type": "code",
   "execution_count": 5,
   "id": "4d9d492c",
   "metadata": {},
   "outputs": [],
   "source": [
    "T_BC = tfs.affines.compose( [0,0,3],tfs.euler.euler2mat(math.pi,0,0),[1,1,1] )"
   ]
  },
  {
   "cell_type": "code",
   "execution_count": 11,
   "id": "fb017469",
   "metadata": {},
   "outputs": [
    {
     "data": {
      "text/plain": [
       "array([[ 1.,  0.,  0.,  0.],\n",
       "       [ 0., -1.,  0.,  0.],\n",
       "       [ 0.,  0., -1.,  3.],\n",
       "       [ 0.,  0.,  0.,  1.]])"
      ]
     },
     "execution_count": 11,
     "metadata": {},
     "output_type": "execute_result"
    }
   ],
   "source": [
    "T_BC"
   ]
  },
  {
   "cell_type": "code",
   "execution_count": 10,
   "id": "a20be0bf",
   "metadata": {},
   "outputs": [],
   "source": [
    "T_BC = tfs.affines.compose( [0,0,3],tfs.quaternions.quat2mat([0,1,0,0]),[1,1,1] )"
   ]
  },
  {
   "cell_type": "code",
   "execution_count": 12,
   "id": "8305e019",
   "metadata": {},
   "outputs": [],
   "source": [
    "T_CP = tfs.affines.compose([2,1,2],np.identity(3),[1,1,1])"
   ]
  },
  {
   "cell_type": "code",
   "execution_count": 13,
   "id": "b39dc92f",
   "metadata": {},
   "outputs": [
    {
     "data": {
      "text/plain": [
       "array([[1., 0., 0., 2.],\n",
       "       [0., 1., 0., 1.],\n",
       "       [0., 0., 1., 2.],\n",
       "       [0., 0., 0., 1.]])"
      ]
     },
     "execution_count": 13,
     "metadata": {},
     "output_type": "execute_result"
    }
   ],
   "source": [
    "T_CP"
   ]
  },
  {
   "cell_type": "code",
   "execution_count": 14,
   "id": "99a6b340",
   "metadata": {},
   "outputs": [],
   "source": [
    "T_BP = np.dot(T_BC,T_CP)"
   ]
  },
  {
   "cell_type": "code",
   "execution_count": 15,
   "id": "7fa3530c",
   "metadata": {},
   "outputs": [
    {
     "data": {
      "text/plain": [
       "array([[ 1.,  0.,  0.,  2.],\n",
       "       [ 0., -1.,  0., -1.],\n",
       "       [ 0.,  0., -1.,  1.],\n",
       "       [ 0.,  0.,  0.,  1.]])"
      ]
     },
     "execution_count": 15,
     "metadata": {},
     "output_type": "execute_result"
    }
   ],
   "source": [
    "T_BP"
   ]
  },
  {
   "cell_type": "code",
   "execution_count": 16,
   "id": "69a61693",
   "metadata": {},
   "outputs": [
    {
     "data": {
      "text/plain": [
       "(3.141592653589793, -0.0, 0.0)"
      ]
     },
     "execution_count": 16,
     "metadata": {},
     "output_type": "execute_result"
    }
   ],
   "source": [
    "tfs.euler.mat2euler(T_BP[:3,:3],\"sxyz\")"
   ]
  },
  {
   "cell_type": "code",
   "execution_count": 17,
   "id": "c43587c3",
   "metadata": {},
   "outputs": [],
   "source": [
    "T_BE = tfs.affines.compose([0.5,0.6,0.8],tfs.quaternions.quat2mat([1,0,0,0]),[1,1,1])\n",
    "T_CE = tfs.affines.compose([0.00,0.05,0.05],tfs.quaternions.quat2mat([0.707,0.706,0,0]),[1,1,1])\n",
    "T_CO = tfs.affines.compose([0.00,0.02,0.85],tfs.quaternions.quat2mat([0.877,0.479,0,0]),[1,1,1])"
   ]
  },
  {
   "cell_type": "code",
   "execution_count": 20,
   "id": "1fbe4fb5",
   "metadata": {},
   "outputs": [],
   "source": [
    "T_BO = np.dot(T_BE,(np.dot(T_EC,T_CO)))"
   ]
  },
  {
   "cell_type": "code",
   "execution_count": 21,
   "id": "911ea6f5",
   "metadata": {},
   "outputs": [
    {
     "data": {
      "text/plain": [
       "array([[ 1.        ,  0.        ,  0.        ,  0.5       ],\n",
       "       [ 0.        ,  0.8421333 ,  0.53926942,  1.39995674],\n",
       "       [ 0.        , -0.53926942,  0.8421333 ,  0.83113231],\n",
       "       [ 0.        ,  0.        ,  0.        ,  1.        ]])"
      ]
     },
     "execution_count": 21,
     "metadata": {},
     "output_type": "execute_result"
    }
   ],
   "source": [
    "T_BO"
   ]
  },
  {
   "cell_type": "code",
   "execution_count": null,
   "id": "a1be6f89",
   "metadata": {},
   "outputs": [],
   "source": []
  },
  {
   "cell_type": "code",
   "execution_count": null,
   "id": "e1ef8dfe",
   "metadata": {},
   "outputs": [],
   "source": []
  },
  {
   "cell_type": "code",
   "execution_count": null,
   "id": "b892a499",
   "metadata": {},
   "outputs": [],
   "source": []
  }
 ],
 "metadata": {
  "kernelspec": {
   "display_name": "Python 3 (ipykernel)",
   "language": "python",
   "name": "python3"
  },
  "language_info": {
   "codemirror_mode": {
    "name": "ipython",
    "version": 3
   },
   "file_extension": ".py",
   "mimetype": "text/x-python",
   "name": "python",
   "nbconvert_exporter": "python",
   "pygments_lexer": "ipython3",
   "version": "3.10.9"
  }
 },
 "nbformat": 4,
 "nbformat_minor": 5
}
