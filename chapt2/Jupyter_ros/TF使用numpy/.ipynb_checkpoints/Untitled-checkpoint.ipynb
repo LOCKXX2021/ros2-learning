{
 "cells": [
  {
   "cell_type": "code",
   "execution_count": 4,
   "id": "6241eec4",
   "metadata": {},
   "outputs": [],
   "source": [
    "import numpy as np\n",
    "import math"
   ]
  },
  {
   "cell_type": "code",
   "execution_count": 3,
   "id": "e84085ca",
   "metadata": {},
   "outputs": [
    {
     "data": {
      "text/plain": [
       "array([[1.],\n",
       "       [1.],\n",
       "       [1.]])"
      ]
     },
     "execution_count": 3,
     "metadata": {},
     "output_type": "execute_result"
    }
   ],
   "source": [
    "np.asarray([1.0,1.0,1.0]).reshape(3,1)"
   ]
  },
  {
   "cell_type": "code",
   "execution_count": 5,
   "id": "0016512a",
   "metadata": {},
   "outputs": [],
   "source": [
    "theta = math.radians(45)"
   ]
  },
  {
   "cell_type": "code",
   "execution_count": 7,
   "id": "0b88376d",
   "metadata": {},
   "outputs": [],
   "source": [
    "def R_ab(theta):\n",
    "return np.asarray([math.cos(theta),-math.sin(theta),0\n",
    "                   ,math.sin(theta),math.cos(theta),0\n",
    "                   ,0,0,1]).reshape(3,3)"
   ]
  },
  {
   "cell_type": "code",
   "execution_count": 8,
   "id": "f0215268",
   "metadata": {},
   "outputs": [
    {
     "data": {
      "text/plain": [
       "array([[ 0.70710678, -0.70710678,  0.        ],\n",
       "       [ 0.70710678,  0.70710678,  0.        ],\n",
       "       [ 0.        ,  0.        ,  1.        ]])"
      ]
     },
     "execution_count": 8,
     "metadata": {},
     "output_type": "execute_result"
    }
   ],
   "source": [
    "R_AB"
   ]
  },
  {
   "cell_type": "code",
   "execution_count": 9,
   "id": "8abae320",
   "metadata": {},
   "outputs": [
    {
     "data": {
      "text/plain": [
       "0.7853981633974483"
      ]
     },
     "execution_count": 9,
     "metadata": {},
     "output_type": "execute_result"
    }
   ],
   "source": [
    "theta"
   ]
  },
  {
   "cell_type": "code",
   "execution_count": null,
   "id": "641cf010",
   "metadata": {},
   "outputs": [],
   "source": []
  },
  {
   "cell_type": "code",
   "execution_count": null,
   "id": "8488be81",
   "metadata": {},
   "outputs": [],
   "source": []
  },
  {
   "cell_type": "code",
   "execution_count": null,
   "id": "5963b6f9",
   "metadata": {},
   "outputs": [],
   "source": []
  }
 ],
 "metadata": {
  "kernelspec": {
   "display_name": "Python 3 (ipykernel)",
   "language": "python",
   "name": "python3"
  },
  "language_info": {
   "codemirror_mode": {
    "name": "ipython",
    "version": 3
   },
   "file_extension": ".py",
   "mimetype": "text/x-python",
   "name": "python",
   "nbconvert_exporter": "python",
   "pygments_lexer": "ipython3",
   "version": "3.10.9"
  }
 },
 "nbformat": 4,
 "nbformat_minor": 5
}
