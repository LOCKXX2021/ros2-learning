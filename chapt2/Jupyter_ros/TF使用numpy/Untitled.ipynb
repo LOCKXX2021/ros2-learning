{
 "cells": [
  {
   "cell_type": "code",
   "execution_count": 4,
   "id": "7c1249f2",
   "metadata": {},
   "outputs": [],
   "source": [
    "import numpy as np\n",
    "import math"
   ]
  },
  {
   "cell_type": "code",
   "execution_count": 3,
   "id": "81787b7b",
   "metadata": {},
   "outputs": [
    {
     "data": {
      "text/plain": [
       "array([[1.],\n",
       "       [1.],\n",
       "       [1.]])"
      ]
     },
     "execution_count": 3,
     "metadata": {},
     "output_type": "execute_result"
    }
   ],
   "source": [
    "np.asarray([1.0,1.0,1.0]).reshape(3,1)"
   ]
  },
  {
   "cell_type": "code",
   "execution_count": 5,
   "id": "c2e56ec1",
   "metadata": {},
   "outputs": [],
   "source": [
    "theta = math.radians(45)"
   ]
  },
  {
   "cell_type": "code",
   "execution_count": 11,
   "id": "e4d409cd",
   "metadata": {},
   "outputs": [],
   "source": [
    "def R_ab(theta):\n",
    "    return np.asarray([math.cos(theta),-math.sin(theta),0\n",
    "                   ,math.sin(theta),math.cos(theta),0\n",
    "                   ,0,0,1]).reshape(3,3)"
   ]
  },
  {
   "cell_type": "code",
   "execution_count": 12,
   "id": "ca2862cd",
   "metadata": {},
   "outputs": [
    {
     "data": {
      "text/plain": [
       "array([[-1.0000000e+00, -1.2246468e-16,  0.0000000e+00],\n",
       "       [ 1.2246468e-16, -1.0000000e+00,  0.0000000e+00],\n",
       "       [ 0.0000000e+00,  0.0000000e+00,  1.0000000e+00]])"
      ]
     },
     "execution_count": 12,
     "metadata": {},
     "output_type": "execute_result"
    }
   ],
   "source": [
    "R_ab(math.radians(180))"
   ]
  },
  {
   "cell_type": "code",
   "execution_count": 9,
   "id": "c9f4aadf",
   "metadata": {},
   "outputs": [
    {
     "data": {
      "text/plain": [
       "0.7853981633974483"
      ]
     },
     "execution_count": 9,
     "metadata": {},
     "output_type": "execute_result"
    }
   ],
   "source": [
    "theta"
   ]
  },
  {
   "cell_type": "code",
   "execution_count": 13,
   "id": "bf0d6463",
   "metadata": {},
   "outputs": [],
   "source": [
    "theta = math.radians(180)"
   ]
  },
  {
   "cell_type": "code",
   "execution_count": 17,
   "id": "c2387099",
   "metadata": {},
   "outputs": [],
   "source": [
    "R_BC = np.asarray([1,0,0,\n",
    "                  0,math.cos(theta),-math.sin(theta),\n",
    "                  0,math.sin(theta),math.cos(theta)]).reshape(3,3)"
   ]
  },
  {
   "cell_type": "code",
   "execution_count": 19,
   "id": "382d8fa4",
   "metadata": {},
   "outputs": [],
   "source": [
    "R_BP = R_BC*np.identity(3)"
   ]
  },
  {
   "cell_type": "code",
   "execution_count": 20,
   "id": "e8d37882",
   "metadata": {},
   "outputs": [
    {
     "data": {
      "text/plain": [
       "array([[ 1.,  0.,  0.],\n",
       "       [ 0., -1., -0.],\n",
       "       [ 0.,  0., -1.]])"
      ]
     },
     "execution_count": 20,
     "metadata": {},
     "output_type": "execute_result"
    }
   ],
   "source": [
    "R_BP"
   ]
  },
  {
   "cell_type": "code",
   "execution_count": 22,
   "id": "09e2d531",
   "metadata": {},
   "outputs": [],
   "source": [
    "P_BC = np.asarray([0,0,3]).reshape(3,1)"
   ]
  },
  {
   "cell_type": "code",
   "execution_count": 23,
   "id": "16deac24",
   "metadata": {},
   "outputs": [],
   "source": [
    "P_CP = np.asarray([2,1,2]).reshape(3,1)"
   ]
  },
  {
   "cell_type": "code",
   "execution_count": 24,
   "id": "ce3228d3",
   "metadata": {},
   "outputs": [],
   "source": [
    "P_BP = np.dot(R_BC,P_CP) + P_BC"
   ]
  },
  {
   "cell_type": "code",
   "execution_count": 27,
   "id": "ff1a5aaa",
   "metadata": {},
   "outputs": [
    {
     "data": {
      "text/plain": [
       "array([[ 2., -1.,  1.]])"
      ]
     },
     "execution_count": 27,
     "metadata": {},
     "output_type": "execute_result"
    }
   ],
   "source": [
    "P_BP.T"
   ]
  },
  {
   "cell_type": "code",
   "execution_count": null,
   "id": "92cb949d",
   "metadata": {},
   "outputs": [],
   "source": []
  },
  {
   "cell_type": "code",
   "execution_count": null,
   "id": "4c9d2756",
   "metadata": {},
   "outputs": [],
   "source": []
  },
  {
   "cell_type": "code",
   "execution_count": null,
   "id": "59397e85",
   "metadata": {},
   "outputs": [],
   "source": []
  }
 ],
 "metadata": {
  "kernelspec": {
   "display_name": "Python 3 (ipykernel)",
   "language": "python",
   "name": "python3"
  },
  "language_info": {
   "codemirror_mode": {
    "name": "ipython",
    "version": 3
   },
   "file_extension": ".py",
   "mimetype": "text/x-python",
   "name": "python",
   "nbconvert_exporter": "python",
   "pygments_lexer": "ipython3",
   "version": "3.10.9"
  }
 },
 "nbformat": 4,
 "nbformat_minor": 5
}
