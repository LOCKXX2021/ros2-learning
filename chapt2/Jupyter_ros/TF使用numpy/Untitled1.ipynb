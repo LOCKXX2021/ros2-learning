{
 "cells": [
  {
   "cell_type": "code",
   "execution_count": 5,
   "id": "da96e14b",
   "metadata": {},
   "outputs": [],
   "source": [
    "import transforms3d as tfs\n",
    "import numpy as np\n",
    "import math"
   ]
  },
  {
   "cell_type": "code",
   "execution_count": 11,
   "id": "b1d54530",
   "metadata": {},
   "outputs": [
    {
     "data": {
      "text/plain": [
       "array([[ 0., -1.,  0.],\n",
       "       [ 1.,  0.,  0.],\n",
       "       [ 0.,  0.,  1.]])"
      ]
     },
     "execution_count": 11,
     "metadata": {},
     "output_type": "execute_result"
    }
   ],
   "source": [
    "tfs.quaternions.quat2mat([math.sqrt(2)/2,0,0,math.sqrt(2)/2])"
   ]
  },
  {
   "cell_type": "code",
   "execution_count": 4,
   "id": "4ef405b5",
   "metadata": {},
   "outputs": [
    {
     "data": {
      "text/plain": [
       "array([1., 0., 0., 0.])"
      ]
     },
     "execution_count": 4,
     "metadata": {},
     "output_type": "execute_result"
    }
   ],
   "source": [
    "tfs.quaternions.mat2quat(np.asarray([[1., 0., 0.],[0., 1., 0.],[0., 0., 1.]]))"
   ]
  },
  {
   "cell_type": "code",
   "execution_count": 13,
   "id": "24cc5860",
   "metadata": {},
   "outputs": [
    {
     "data": {
      "text/plain": [
       "(array([0., 0., 1.]), 1.5707963267948966)"
      ]
     },
     "execution_count": 13,
     "metadata": {},
     "output_type": "execute_result"
    }
   ],
   "source": [
    "tfs.quaternions.quat2axangle([math.sqrt(2)/2,0,0,math.sqrt(2)/2])"
   ]
  },
  {
   "cell_type": "code",
   "execution_count": 15,
   "id": "67b25b97",
   "metadata": {},
   "outputs": [
    {
     "data": {
      "text/plain": [
       "array([0.96891242, 0.24740396, 0.        , 0.        ])"
      ]
     },
     "execution_count": 15,
     "metadata": {},
     "output_type": "execute_result"
    }
   ],
   "source": [
    "tfs.quaternions.axangle2quat([1,0,0],0.5)"
   ]
  },
  {
   "cell_type": "code",
   "execution_count": 36,
   "id": "0d634a00",
   "metadata": {},
   "outputs": [
    {
     "data": {
      "text/plain": [
       "array([[ 1.000000e+00,  0.000000e+00,  0.000000e+00],\n",
       "       [ 0.000000e+00,  6.123234e-17, -1.000000e+00],\n",
       "       [-0.000000e+00,  1.000000e+00,  6.123234e-17]])"
      ]
     },
     "execution_count": 36,
     "metadata": {},
     "output_type": "execute_result"
    }
   ],
   "source": [
    "tfs.euler.euler2mat(math.pi/2,0,0,\"sxyz\")"
   ]
  },
  {
   "cell_type": "code",
   "execution_count": 25,
   "id": "c71e119d",
   "metadata": {},
   "outputs": [
    {
     "data": {
      "text/plain": [
       "(1.5707963267948966, -0.0, 0.0)"
      ]
     },
     "execution_count": 25,
     "metadata": {},
     "output_type": "execute_result"
    }
   ],
   "source": [
    "tfs.euler.mat2euler(np.asarray( [[1,0,0],[0,0,1],[0,1,0],] ),\"sxyz\"  )"
   ]
  },
  {
   "cell_type": "code",
   "execution_count": 46,
   "id": "a43774da",
   "metadata": {},
   "outputs": [
    {
     "data": {
      "text/plain": [
       "(array([ 7.07106781e-01,  7.07106781e-01, -2.80468183e-17]),\n",
       " 0.4999999999999995)"
      ]
     },
     "execution_count": 46,
     "metadata": {},
     "output_type": "execute_result"
    }
   ],
   "source": [
    "tfs.euler.euler2axangle(0.36863547958726156, 0.34585912036052285, 0.06510734453095607,\"sxyz\")"
   ]
  },
  {
   "cell_type": "code",
   "execution_count": 49,
   "id": "e5308379",
   "metadata": {},
   "outputs": [
    {
     "data": {
      "text/plain": [
       "(0.36863547958726156, 0.34585912036052285, 0.06510734453095607)"
      ]
     },
     "execution_count": 49,
     "metadata": {},
     "output_type": "execute_result"
    }
   ],
   "source": [
    "tfs.euler.axangle2euler([1,1,0],0.5,\"sxyz\")"
   ]
  }
 ],
 "metadata": {
  "kernelspec": {
   "display_name": "Python 3 (ipykernel)",
   "language": "python",
   "name": "python3"
  },
  "language_info": {
   "codemirror_mode": {
    "name": "ipython",
    "version": 3
   },
   "file_extension": ".py",
   "mimetype": "text/x-python",
   "name": "python",
   "nbconvert_exporter": "python",
   "pygments_lexer": "ipython3",
   "version": "3.10.9"
  }
 },
 "nbformat": 4,
 "nbformat_minor": 5
}
