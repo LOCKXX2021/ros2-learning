{
 "cells": [
  {
   "cell_type": "code",
   "execution_count": 1,
   "id": "34e0f864",
   "metadata": {},
   "outputs": [],
   "source": [
    "import numpy as np\n",
    "import math\n",
    "import transforms3d as tfs"
   ]
  },
  {
   "cell_type": "code",
   "execution_count": 3,
   "id": "4bae6497",
   "metadata": {},
   "outputs": [],
   "source": [
    "R = np.asarray( [ [1.,0.,0.],[0.,1.,0.],[0.,0.,1.] ] )"
   ]
  },
  {
   "cell_type": "code",
   "execution_count": 6,
   "id": "42aba324",
   "metadata": {},
   "outputs": [],
   "source": [
    "T = np.asarray( [1,0,1] )"
   ]
  },
  {
   "cell_type": "code",
   "execution_count": 8,
   "id": "24f81aba",
   "metadata": {},
   "outputs": [],
   "source": [
    "a = R,T"
   ]
  },
  {
   "cell_type": "code",
   "execution_count": 11,
   "id": "4643f8e5",
   "metadata": {},
   "outputs": [],
   "source": [
    "temp = np.hstack([R,T.reshape(3,1)])"
   ]
  },
  {
   "cell_type": "code",
   "execution_count": 15,
   "id": "5e0b2cc1",
   "metadata": {},
   "outputs": [
    {
     "data": {
      "text/plain": [
       "array([[1., 0., 0., 1.],\n",
       "       [0., 1., 0., 0.],\n",
       "       [0., 0., 1., 1.],\n",
       "       [0., 0., 0., 1.]])"
      ]
     },
     "execution_count": 15,
     "metadata": {},
     "output_type": "execute_result"
    }
   ],
   "source": [
    "np.vstack( (temp,[0,0,0,1]) )"
   ]
  },
  {
   "cell_type": "code",
   "execution_count": 16,
   "id": "91cc2d6a",
   "metadata": {},
   "outputs": [
    {
     "data": {
      "text/plain": [
       "array([[1., 0., 0.],\n",
       "       [0., 1., 0.],\n",
       "       [0., 0., 1.],\n",
       "       [1., 0., 1.]])"
      ]
     },
     "execution_count": 16,
     "metadata": {},
     "output_type": "execute_result"
    }
   ],
   "source": [
    "np.vstack(a)"
   ]
  },
  {
   "cell_type": "code",
   "execution_count": 30,
   "id": "afb7db72",
   "metadata": {},
   "outputs": [],
   "source": [
    "t = tfs.affines.compose(T,R,[1,1,1])"
   ]
  },
  {
   "cell_type": "code",
   "execution_count": 23,
   "id": "5c588bf7",
   "metadata": {},
   "outputs": [],
   "source": [
    "P_1 = np.asarray( [2,1,2] )"
   ]
  },
  {
   "cell_type": "code",
   "execution_count": 25,
   "id": "4a132814",
   "metadata": {},
   "outputs": [
    {
     "data": {
      "text/plain": [
       "array([[1., 0., 0., 2.],\n",
       "       [0., 1., 0., 1.],\n",
       "       [0., 0., 1., 2.],\n",
       "       [0., 0., 0., 1.]])"
      ]
     },
     "execution_count": 25,
     "metadata": {},
     "output_type": "execute_result"
    }
   ],
   "source": [
    "tfs.affines.compose(P_1,R,[1,1,1])"
   ]
  },
  {
   "cell_type": "code",
   "execution_count": 26,
   "id": "6e4d1481",
   "metadata": {},
   "outputs": [],
   "source": [
    "R_1 = tfs.euler.euler2mat(math.pi,0,0)"
   ]
  },
  {
   "cell_type": "code",
   "execution_count": 29,
   "id": "2284f217",
   "metadata": {},
   "outputs": [
    {
     "data": {
      "text/plain": [
       "array([[ 1.0000000e+00,  0.0000000e+00,  0.0000000e+00,  0.0000000e+00],\n",
       "       [ 0.0000000e+00, -1.0000000e+00, -1.2246468e-16,  0.0000000e+00],\n",
       "       [ 0.0000000e+00,  1.2246468e-16, -1.0000000e+00,  3.0000000e+00],\n",
       "       [ 0.0000000e+00,  0.0000000e+00,  0.0000000e+00,  1.0000000e+00]])"
      ]
     },
     "execution_count": 29,
     "metadata": {},
     "output_type": "execute_result"
    }
   ],
   "source": [
    "tfs.affines.compose(np.asarray( [0,0,3] ),R_1,[1,1,1])"
   ]
  },
  {
   "cell_type": "code",
   "execution_count": 35,
   "id": "33334caa",
   "metadata": {},
   "outputs": [
    {
     "data": {
      "text/plain": [
       "array([1., 0., 0., 0.])"
      ]
     },
     "execution_count": 35,
     "metadata": {},
     "output_type": "execute_result"
    }
   ],
   "source": [
    "tfs.quaternions.mat2quat( t[0:3,0:3] )"
   ]
  },
  {
   "cell_type": "code",
   "execution_count": null,
   "id": "9bf19527",
   "metadata": {},
   "outputs": [],
   "source": []
  },
  {
   "cell_type": "code",
   "execution_count": null,
   "id": "75429ee4",
   "metadata": {},
   "outputs": [],
   "source": []
  },
  {
   "cell_type": "code",
   "execution_count": null,
   "id": "6a1fcbd1",
   "metadata": {},
   "outputs": [],
   "source": []
  }
 ],
 "metadata": {
  "kernelspec": {
   "display_name": "Python 3 (ipykernel)",
   "language": "python",
   "name": "python3"
  },
  "language_info": {
   "codemirror_mode": {
    "name": "ipython",
    "version": 3
   },
   "file_extension": ".py",
   "mimetype": "text/x-python",
   "name": "python",
   "nbconvert_exporter": "python",
   "pygments_lexer": "ipython3",
   "version": "3.10.9"
  }
 },
 "nbformat": 4,
 "nbformat_minor": 5
}
