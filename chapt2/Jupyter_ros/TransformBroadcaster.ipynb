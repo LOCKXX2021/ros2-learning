{
 "cells": [
  {
   "cell_type": "code",
   "execution_count": 1,
   "id": "fc7a1c97",
   "metadata": {},
   "outputs": [],
   "source": [
    "import rclpy\n",
    "from rclpy.node import Node"
   ]
  },
  {
   "cell_type": "markdown",
   "id": "5bf6ec44",
   "metadata": {},
   "source": [
    "导入TF帧消息接口"
   ]
  },
  {
   "cell_type": "code",
   "execution_count": 2,
   "id": "3a061ea3",
   "metadata": {},
   "outputs": [],
   "source": [
    "from geometry_msgs.msg import TransformStamped"
   ]
  },
  {
   "cell_type": "code",
   "execution_count": 3,
   "id": "d8741586",
   "metadata": {},
   "outputs": [],
   "source": [
    "from tf2_ros import TransformBroadcaster#导入动态广播发布器"
   ]
  },
  {
   "cell_type": "code",
   "execution_count": 10,
   "id": "df74e804",
   "metadata": {},
   "outputs": [],
   "source": [
    "rclpy.init()\n",
    "node = Node(\"transform_node2\")"
   ]
  },
  {
   "cell_type": "code",
   "execution_count": 11,
   "id": "bbfc9fed",
   "metadata": {},
   "outputs": [],
   "source": [
    "tf_pub = TransformBroadcaster(node)"
   ]
  },
  {
   "cell_type": "code",
   "execution_count": 12,
   "id": "5c5fb543",
   "metadata": {},
   "outputs": [],
   "source": [
    "t = TransformStamped()\n"
   ]
  },
  {
   "cell_type": "code",
   "execution_count": 13,
   "id": "971083d4",
   "metadata": {},
   "outputs": [],
   "source": [
    "t.header.stamp = node.get_clock().now().to_msg()\n",
    "t.header.frame_id = 'C'\n",
    "t.child_frame_id = 'P'\n",
    "t.transform.translation.x = 2.0\n",
    "t.transform.translation.y = 1.0\n",
    "t.transform.translation.z = 2.0\n",
    "t.transform.rotation.x = 1.0\n",
    "t.transform.rotation.y = 0.0\n",
    "t.transform.rotation.z = 0.0\n",
    "t.transform.rotation.w = 0.0\n"
   ]
  },
  {
   "cell_type": "code",
   "execution_count": null,
   "id": "269e34f3",
   "metadata": {},
   "outputs": [],
   "source": [
    "def send_transform():\n",
    "    t.header.stamp = node.get_clock().now().to_msg()#不断更新时间戳\n",
    "    tf_pub.sendTransform(t)\n",
    "node.create_timer(0.1,send_transform)\n",
    "rclpy.spin(node)"
   ]
  },
  {
   "cell_type": "code",
   "execution_count": 9,
   "id": "588997ba",
   "metadata": {},
   "outputs": [],
   "source": [
    "rclpy.shutdown()"
   ]
  },
  {
   "cell_type": "code",
   "execution_count": null,
   "id": "5688b88d",
   "metadata": {},
   "outputs": [],
   "source": [
    "!ros2 run tf2_ros tf2_echo C P"
   ]
  }
 ],
 "metadata": {
  "kernelspec": {
   "display_name": "Python 3 (ipykernel)",
   "language": "python",
   "name": "python3"
  },
  "language_info": {
   "codemirror_mode": {
    "name": "ipython",
    "version": 3
   },
   "file_extension": ".py",
   "mimetype": "text/x-python",
   "name": "python",
   "nbconvert_exporter": "python",
   "pygments_lexer": "ipython3",
   "version": "3.10.9"
  }
 },
 "nbformat": 4,
 "nbformat_minor": 5
}
