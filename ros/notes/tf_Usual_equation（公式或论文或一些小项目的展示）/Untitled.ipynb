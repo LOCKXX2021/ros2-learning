{
 "cells": [
  {
   "cell_type": "code",
   "execution_count": 28,
   "id": "736ead7a",
   "metadata": {},
   "outputs": [
    {
     "name": "stdout",
     "output_type": "stream",
     "text": [
      "\n",
      "please input your name and your favorite drink\n",
      "example:my name is li hua and my favorite drink is orange juicemy name is li hua and my favorite drink is orange juice.\n"
     ]
    }
   ],
   "source": [
    "origin_str = input(\"\"\"\n",
    "please input your name and your favorite drink\n",
    "example:my name is li hua and my favorite drink is orange juice.\"\"\")#原始输入"
   ]
  },
  {
   "cell_type": "code",
   "execution_count": 43,
   "id": "4eacf2b8",
   "metadata": {},
   "outputs": [
    {
     "name": "stdout",
     "output_type": "stream",
     "text": [
      "your name is one of [' li hua '] and your favorite drink is  orange juice\n"
     ]
    }
   ],
   "source": [
    "while not get_name_and_drink(origin_str):\n",
    "    print(\"请按example中的案例输入\")"
   ]
  },
  {
   "cell_type": "code",
   "execution_count": 41,
   "id": "d55c5155",
   "metadata": {},
   "outputs": [],
   "source": [
    "def get_name_and_drink(origin_str: str) -> bool:\n",
    "    try:\n",
    "        temp_buffer = origin_str.split(\"is\")\n",
    "        if temp_buffer[-1].endswith(\".\"):\n",
    "            drink_name = temp_buffer[-1][:-1]\n",
    "        else:\n",
    "            return false\n",
    "        try: \n",
    "            buffer = []\n",
    "            for i in temp_buffer: \n",
    "                if \"and\" in i:\n",
    "                    buffer.append( i.split(\"and\")[0] )\n",
    "            print(f\"your name is one of {buffer} and your favorite drink is {drink_name}\")\n",
    "            return True\n",
    "        except:\n",
    "            return False\n",
    "    except:\n",
    "        return False"
   ]
  },
  {
   "cell_type": "code",
   "execution_count": 29,
   "id": "f49a93b3",
   "metadata": {},
   "outputs": [
    {
     "data": {
      "text/plain": [
       "['my name ', ' li hua and my favorite drink ', ' orange juice.']"
      ]
     },
     "execution_count": 29,
     "metadata": {},
     "output_type": "execute_result"
    }
   ],
   "source": [
    "origin_str.split(\"is\")"
   ]
  },
  {
   "cell_type": "code",
   "execution_count": 18,
   "id": "46f3985b",
   "metadata": {},
   "outputs": [],
   "source": [
    "mid_buffer = [i for i in Out[13] if \"and\" in i]"
   ]
  },
  {
   "cell_type": "code",
   "execution_count": 42,
   "id": "6af8f9d4",
   "metadata": {},
   "outputs": [
    {
     "name": "stdout",
     "output_type": "stream",
     "text": [
      "your name is one of [' li hua '] and your favorite drink is  orange juice\n"
     ]
    },
    {
     "data": {
      "text/plain": [
       "True"
      ]
     },
     "execution_count": 42,
     "metadata": {},
     "output_type": "execute_result"
    }
   ],
   "source": [
    "get_name_and_drink(origin_str)"
   ]
  },
  {
   "cell_type": "code",
   "execution_count": 32,
   "id": "49dd5eba",
   "metadata": {},
   "outputs": [],
   "source": [
    "temp_buffer = origin_str.split(\"is\")"
   ]
  },
  {
   "cell_type": "code",
   "execution_count": 33,
   "id": "ad57f5eb",
   "metadata": {},
   "outputs": [
    {
     "data": {
      "text/plain": [
       "['my name ', ' li hua and my favorite drink ', ' orange juice.']"
      ]
     },
     "execution_count": 33,
     "metadata": {},
     "output_type": "execute_result"
    }
   ],
   "source": [
    "temp_buffer"
   ]
  },
  {
   "cell_type": "code",
   "execution_count": 40,
   "id": "3cf9dde5",
   "metadata": {},
   "outputs": [
    {
     "ename": "AttributeError",
     "evalue": "'str' object has no attribute 'endwith'",
     "output_type": "error",
     "traceback": [
      "\u001b[0;31m---------------------------------------------------------------------------\u001b[0m",
      "\u001b[0;31mAttributeError\u001b[0m                            Traceback (most recent call last)",
      "Cell \u001b[0;32mIn[40], line 1\u001b[0m\n\u001b[0;32m----> 1\u001b[0m \u001b[38;5;28;01mif\u001b[39;00m \u001b[43mtemp_buffer\u001b[49m\u001b[43m[\u001b[49m\u001b[38;5;241;43m-\u001b[39;49m\u001b[38;5;241;43m1\u001b[39;49m\u001b[43m]\u001b[49m\u001b[38;5;241;43m.\u001b[39;49m\u001b[43mendwith\u001b[49m(\u001b[38;5;124m\"\u001b[39m\u001b[38;5;124m.\u001b[39m\u001b[38;5;124m\"\u001b[39m):\n\u001b[1;32m      2\u001b[0m        drink_name \u001b[38;5;241m=\u001b[39m temp_buffer[\u001b[38;5;241m-\u001b[39m\u001b[38;5;241m1\u001b[39m][:\u001b[38;5;241m-\u001b[39m\u001b[38;5;241m1\u001b[39m]\n",
      "\u001b[0;31mAttributeError\u001b[0m: 'str' object has no attribute 'endwith'"
     ]
    }
   ],
   "source": [
    " if temp_buffer[-1].endwith(\".\"):\n",
    "        drink_name = temp_buffer[-1][:-1]"
   ]
  }
 ],
 "metadata": {
  "kernelspec": {
   "display_name": "Python 3 (ipykernel)",
   "language": "python",
   "name": "python3"
  },
  "language_info": {
   "codemirror_mode": {
    "name": "ipython",
    "version": 3
   },
   "file_extension": ".py",
   "mimetype": "text/x-python",
   "name": "python",
   "nbconvert_exporter": "python",
   "pygments_lexer": "ipython3",
   "version": "3.10.9"
  }
 },
 "nbformat": 4,
 "nbformat_minor": 5
}
